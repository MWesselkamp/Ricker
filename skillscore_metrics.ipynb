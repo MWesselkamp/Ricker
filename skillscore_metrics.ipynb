{
 "cells": [
  {
   "cell_type": "markdown",
   "source": [
    "# The xskillscore package to evaluate forecasts"
   ],
   "metadata": {
    "collapsed": false,
    "pycharm": {
     "name": "#%% md\n"
    }
   }
  },
  {
   "cell_type": "code",
   "execution_count": null,
   "outputs": [],
   "source": [
    "import xskillscore as xs\n",
    "import numpy as np\n",
    "import simulations\n",
    "import matplotlib.pyplot as plt\n",
    "import xarray as xr"
   ],
   "metadata": {
    "collapsed": false,
    "pycharm": {
     "name": "#%%\n"
    }
   }
  },
  {
   "cell_type": "code",
   "execution_count": null,
   "outputs": [],
   "source": [
    "# Verification data\n",
    "sims = simulations.Simulator()\n",
    "sims.hyper_parameters(simulated_years=5,\n",
    "                           ensemble_size=1,\n",
    "                           initial_size=(950, 950))\n",
    "sims.simulation_parameters(regime=\"non-chaotic\", behaviour=\"stochastic\")\n",
    "sims.environment('non-exogeneous', trend=False)\n",
    "sims.model_type(\"multi-species\")\n",
    "x_true = sims.simulate()\n",
    "x_obs = x_true[:,:,0]\n",
    "\n",
    "# Forecast\n",
    "sims = simulations.Simulator()\n",
    "sims.hyper_parameters(simulated_years=5,\n",
    "                           ensemble_size=10,\n",
    "                           initial_size=950)\n",
    "sims.simulation_parameters(regime=\"non-chaotic\", behaviour=\"stochastic\")\n",
    "sims.environment('non-exogeneous', trend=False)\n",
    "sims.model_type(\"single-species\")\n",
    "x_mod = sims.simulate()\n",
    "\n",
    "print(x_mod[0,:].reshape(1,x_mod.shape[1]).shape, x_obs.shape)"
   ],
   "metadata": {
    "collapsed": false,
    "pycharm": {
     "name": "#%%\n"
    }
   }
  },
  {
   "cell_type": "markdown",
   "source": [
    "## Deterministic metrics"
   ],
   "metadata": {
    "collapsed": false,
    "pycharm": {
     "name": "#%% md\n"
    }
   }
  },
  {
   "cell_type": "code",
   "execution_count": 44,
   "outputs": [
    {
     "name": "stdout",
     "output_type": "stream",
     "text": [
      "(1, 260) (1, 260) (10, 260)\n",
      "<xarray.DataArray (x: 1, time: 260)>\n",
      "array([[950.1295243 , 948.96332459, 951.26296329, 950.95216414,\n",
      "        950.84270384, 951.18635078, 952.30300349, 952.68666925,\n",
      "        952.48359498, 952.10875706, 950.88427066, 952.24864948,\n",
      "        951.29759327, 951.87008847, 952.72224246, 954.20100043,\n",
      "        953.98028884, 954.97302579, 952.7264685 , 951.67832038,\n",
      "        950.02818134, 949.07934657, 949.05261003, 949.731506  ,\n",
      "        950.58934824, 951.23994344, 951.10788733, 952.26535757,\n",
      "        952.36023792, 951.40479355, 950.64297533, 950.4702885 ,\n",
      "        952.73056559, 952.04352547, 952.45297871, 951.17632257,\n",
      "        952.21509064, 951.44467982, 951.12266964, 950.67056843,\n",
      "        951.81217736, 951.26268809, 951.45259355, 951.07769589,\n",
      "        950.78919837, 951.21860197, 950.97925146, 950.30653198,\n",
      "        951.34753424, 953.11108843, 952.42176134, 952.04784688,\n",
      "        951.55961546, 952.69355963, 952.57695239, 951.96258423,\n",
      "        950.93682621, 951.40936924, 950.58031323, 950.85874511,\n",
      "        950.55258074, 950.68456184, 947.37552442, 947.85765633,\n",
      "        950.58076201, 950.63843283, 952.26918135, 953.12937514,\n",
      "        952.86439372, 952.90384678, 955.99483918, 956.76555614,\n",
      "        959.27563669, 961.45674714, 961.43198484, 961.60945513,\n",
      "        960.57787969, 961.23703005, 960.03213464, 959.09253134,\n",
      "...\n",
      "        961.74794072, 961.9030516 , 960.77030318, 960.69270606,\n",
      "        960.79059048, 960.30103595, 959.93712062, 959.41076185,\n",
      "        960.13192312, 961.00231535, 961.85389466, 961.8122816 ,\n",
      "        961.44444729, 962.90031045, 964.05919591, 963.67174222,\n",
      "        964.88066724, 964.67874371, 965.3467322 , 967.17823534,\n",
      "        966.98396782, 967.17140403, 968.26925842, 967.40575483,\n",
      "        967.51676729, 966.93911664, 968.04756961, 968.5831583 ,\n",
      "        968.69081444, 968.70720509, 968.15940687, 967.94932577,\n",
      "        967.4865586 , 968.4555678 , 967.52315   , 966.36042133,\n",
      "        966.07955488, 965.9818524 , 966.74782516, 966.79489675,\n",
      "        966.65656109, 967.22270002, 967.53064712, 967.04901733,\n",
      "        966.22207048, 967.4160139 , 968.05379039, 968.26510874,\n",
      "        970.03752952, 969.31800458, 968.83514314, 967.82306086,\n",
      "        967.43975979, 968.32834514, 969.55546302, 971.03651033,\n",
      "        970.34245966, 970.47485258, 969.88664533, 970.55944239,\n",
      "        971.10444184, 970.07287019, 969.91980171, 969.17297193,\n",
      "        967.82174081, 969.80806191, 968.87837789, 969.45256109,\n",
      "        970.14995381, 972.23639699, 973.5292247 , 973.0414983 ,\n",
      "        973.44717598, 973.57491557, 974.38654165, 973.05085421,\n",
      "        974.20235807, 973.62894501, 973.90532537, 974.48819593]])\n",
      "Dimensions without coordinates: x, time\n",
      "[(), (), (), (), (), (), (), (), (), ()]\n"
     ]
    }
   ],
   "source": [
    "a = xr.DataArray(x_obs, dims=['x', 'time'])\n",
    "b = xr.DataArray(x_mod[0,:].reshape(1,x_mod.shape[1]), dims=['x', 'time'])\n",
    "c = xr.DataArray(x_mod, dims=['x', 'time'])\n",
    "print(a.shape, b.shape, c.shape)\n",
    "print(a)"
   ],
   "metadata": {
    "collapsed": false,
    "pycharm": {
     "name": "#%%\n"
    }
   }
  },
  {
   "cell_type": "code",
   "execution_count": 47,
   "outputs": [
    {
     "name": "stdout",
     "output_type": "stream",
     "text": [
      "<xarray.DataArray (x: 1)>\n",
      "array([28.43378134])\n",
      "Dimensions without coordinates: x\n",
      "<xarray.DataArray (x: 1)>\n",
      "array([-19.09123114])\n",
      "Dimensions without coordinates: x\n"
     ]
    }
   ],
   "source": [
    "print(xs.mae(a, b, dim='time'))\n",
    "print(xs.r2(a, b, dim='time'))"
   ],
   "metadata": {
    "collapsed": false,
    "pycharm": {
     "name": "#%%\n"
    }
   }
  },
  {
   "cell_type": "code",
   "execution_count": 51,
   "outputs": [
    {
     "ename": "ValueError",
     "evalue": "all the input arrays must have same number of dimensions, but the array at index 0 has 3 dimension(s) and the array at index 1 has 2 dimension(s)",
     "output_type": "error",
     "traceback": [
      "\u001B[0;31m---------------------------------------------------------------------------\u001B[0m",
      "\u001B[0;31mValueError\u001B[0m                                Traceback (most recent call last)",
      "\u001B[0;32m/var/folders/s8/rp7pfvm507qcvckzx566r47c0000gp/T/ipykernel_76673/675587281.py\u001B[0m in \u001B[0;36m<module>\u001B[0;34m\u001B[0m\n\u001B[1;32m      1\u001B[0m \u001B[0mobservations\u001B[0m \u001B[0;34m=\u001B[0m \u001B[0mxr\u001B[0m\u001B[0;34m.\u001B[0m\u001B[0mDataArray\u001B[0m\u001B[0;34m(\u001B[0m\u001B[0mx_obs\u001B[0m\u001B[0;34m,\u001B[0m \u001B[0mdims\u001B[0m\u001B[0;34m=\u001B[0m\u001B[0;34m[\u001B[0m\u001B[0;34m'x'\u001B[0m\u001B[0;34m,\u001B[0m \u001B[0;34m'time'\u001B[0m\u001B[0;34m]\u001B[0m\u001B[0;34m)\u001B[0m\u001B[0;34m\u001B[0m\u001B[0;34m\u001B[0m\u001B[0m\n\u001B[1;32m      2\u001B[0m \u001B[0mforecasts\u001B[0m \u001B[0;34m=\u001B[0m \u001B[0mxr\u001B[0m\u001B[0;34m.\u001B[0m\u001B[0mDataArray\u001B[0m\u001B[0;34m(\u001B[0m\u001B[0mx_mod\u001B[0m\u001B[0;34m[\u001B[0m\u001B[0;36m0\u001B[0m\u001B[0;34m,\u001B[0m\u001B[0;34m:\u001B[0m\u001B[0;34m]\u001B[0m\u001B[0;34m.\u001B[0m\u001B[0mreshape\u001B[0m\u001B[0;34m(\u001B[0m\u001B[0;36m1\u001B[0m\u001B[0;34m,\u001B[0m\u001B[0mx_mod\u001B[0m\u001B[0;34m.\u001B[0m\u001B[0mshape\u001B[0m\u001B[0;34m[\u001B[0m\u001B[0;36m1\u001B[0m\u001B[0;34m]\u001B[0m\u001B[0;34m)\u001B[0m\u001B[0;34m,\u001B[0m \u001B[0mdims\u001B[0m\u001B[0;34m=\u001B[0m\u001B[0;34m[\u001B[0m\u001B[0;34m'member'\u001B[0m\u001B[0;34m,\u001B[0m \u001B[0;34m'time'\u001B[0m\u001B[0;34m]\u001B[0m\u001B[0;34m)\u001B[0m\u001B[0;34m\u001B[0m\u001B[0;34m\u001B[0m\u001B[0m\n\u001B[0;32m----> 3\u001B[0;31m \u001B[0mxs\u001B[0m\u001B[0;34m.\u001B[0m\u001B[0mrank_histogram\u001B[0m\u001B[0;34m(\u001B[0m\u001B[0mobservations\u001B[0m\u001B[0;34m,\u001B[0m \u001B[0mforecasts\u001B[0m\u001B[0;34m,\u001B[0m \u001B[0;34m'x'\u001B[0m\u001B[0;34m)\u001B[0m\u001B[0;34m\u001B[0m\u001B[0;34m\u001B[0m\u001B[0m\n\u001B[0m",
      "\u001B[0;32m~/PycharmProjects/Ricker/venv/lib/python3.9/site-packages/xskillscore/core/probabilistic.py\u001B[0m in \u001B[0;36mrank_histogram\u001B[0;34m(observations, forecasts, dim, member_dim)\u001B[0m\n\u001B[1;32m    885\u001B[0m             \u001B[0;32mraise\u001B[0m \u001B[0mValueError\u001B[0m\u001B[0;34m(\u001B[0m\u001B[0;34mf'\"{member_dim}\" cannot be specified as an input to dim'\u001B[0m\u001B[0;34m)\u001B[0m\u001B[0;34m\u001B[0m\u001B[0;34m\u001B[0m\u001B[0m\n\u001B[1;32m    886\u001B[0m \u001B[0;34m\u001B[0m\u001B[0m\n\u001B[0;32m--> 887\u001B[0;31m     ranks = xr.apply_ufunc(\n\u001B[0m\u001B[1;32m    888\u001B[0m         \u001B[0m_rank_first\u001B[0m\u001B[0;34m,\u001B[0m\u001B[0;34m\u001B[0m\u001B[0;34m\u001B[0m\u001B[0m\n\u001B[1;32m    889\u001B[0m         \u001B[0mobservations\u001B[0m\u001B[0;34m,\u001B[0m\u001B[0;34m\u001B[0m\u001B[0;34m\u001B[0m\u001B[0m\n",
      "\u001B[0;32m~/PycharmProjects/Ricker/venv/lib/python3.9/site-packages/xarray/core/computation.py\u001B[0m in \u001B[0;36mapply_ufunc\u001B[0;34m(func, input_core_dims, output_core_dims, exclude_dims, vectorize, join, dataset_join, dataset_fill_value, keep_attrs, kwargs, dask, output_dtypes, output_sizes, meta, dask_gufunc_kwargs, *args)\u001B[0m\n\u001B[1;32m   1202\u001B[0m     \u001B[0;31m# feed DataArray apply_variable_ufunc through apply_dataarray_vfunc\u001B[0m\u001B[0;34m\u001B[0m\u001B[0;34m\u001B[0m\u001B[0m\n\u001B[1;32m   1203\u001B[0m     \u001B[0;32melif\u001B[0m \u001B[0many\u001B[0m\u001B[0;34m(\u001B[0m\u001B[0misinstance\u001B[0m\u001B[0;34m(\u001B[0m\u001B[0ma\u001B[0m\u001B[0;34m,\u001B[0m \u001B[0mDataArray\u001B[0m\u001B[0;34m)\u001B[0m \u001B[0;32mfor\u001B[0m \u001B[0ma\u001B[0m \u001B[0;32min\u001B[0m \u001B[0margs\u001B[0m\u001B[0;34m)\u001B[0m\u001B[0;34m:\u001B[0m\u001B[0;34m\u001B[0m\u001B[0;34m\u001B[0m\u001B[0m\n\u001B[0;32m-> 1204\u001B[0;31m         return apply_dataarray_vfunc(\n\u001B[0m\u001B[1;32m   1205\u001B[0m             \u001B[0mvariables_vfunc\u001B[0m\u001B[0;34m,\u001B[0m\u001B[0;34m\u001B[0m\u001B[0;34m\u001B[0m\u001B[0m\n\u001B[1;32m   1206\u001B[0m             \u001B[0;34m*\u001B[0m\u001B[0margs\u001B[0m\u001B[0;34m,\u001B[0m\u001B[0;34m\u001B[0m\u001B[0;34m\u001B[0m\u001B[0m\n",
      "\u001B[0;32m~/PycharmProjects/Ricker/venv/lib/python3.9/site-packages/xarray/core/computation.py\u001B[0m in \u001B[0;36mapply_dataarray_vfunc\u001B[0;34m(func, signature, join, exclude_dims, keep_attrs, *args)\u001B[0m\n\u001B[1;32m    313\u001B[0m \u001B[0;34m\u001B[0m\u001B[0m\n\u001B[1;32m    314\u001B[0m     \u001B[0mdata_vars\u001B[0m \u001B[0;34m=\u001B[0m \u001B[0;34m[\u001B[0m\u001B[0mgetattr\u001B[0m\u001B[0;34m(\u001B[0m\u001B[0ma\u001B[0m\u001B[0;34m,\u001B[0m \u001B[0;34m\"variable\"\u001B[0m\u001B[0;34m,\u001B[0m \u001B[0ma\u001B[0m\u001B[0;34m)\u001B[0m \u001B[0;32mfor\u001B[0m \u001B[0ma\u001B[0m \u001B[0;32min\u001B[0m \u001B[0margs\u001B[0m\u001B[0;34m]\u001B[0m\u001B[0;34m\u001B[0m\u001B[0;34m\u001B[0m\u001B[0m\n\u001B[0;32m--> 315\u001B[0;31m     \u001B[0mresult_var\u001B[0m \u001B[0;34m=\u001B[0m \u001B[0mfunc\u001B[0m\u001B[0;34m(\u001B[0m\u001B[0;34m*\u001B[0m\u001B[0mdata_vars\u001B[0m\u001B[0;34m)\u001B[0m\u001B[0;34m\u001B[0m\u001B[0;34m\u001B[0m\u001B[0m\n\u001B[0m\u001B[1;32m    316\u001B[0m \u001B[0;34m\u001B[0m\u001B[0m\n\u001B[1;32m    317\u001B[0m     \u001B[0mout\u001B[0m\u001B[0;34m:\u001B[0m \u001B[0mtuple\u001B[0m\u001B[0;34m[\u001B[0m\u001B[0mDataArray\u001B[0m\u001B[0;34m,\u001B[0m \u001B[0;34m...\u001B[0m\u001B[0;34m]\u001B[0m \u001B[0;34m|\u001B[0m \u001B[0mDataArray\u001B[0m\u001B[0;34m\u001B[0m\u001B[0;34m\u001B[0m\u001B[0m\n",
      "\u001B[0;32m~/PycharmProjects/Ricker/venv/lib/python3.9/site-packages/xarray/core/computation.py\u001B[0m in \u001B[0;36mapply_variable_ufunc\u001B[0;34m(func, signature, exclude_dims, dask, output_dtypes, vectorize, keep_attrs, dask_gufunc_kwargs, *args)\u001B[0m\n\u001B[1;32m    769\u001B[0m             )\n\u001B[1;32m    770\u001B[0m \u001B[0;34m\u001B[0m\u001B[0m\n\u001B[0;32m--> 771\u001B[0;31m     \u001B[0mresult_data\u001B[0m \u001B[0;34m=\u001B[0m \u001B[0mfunc\u001B[0m\u001B[0;34m(\u001B[0m\u001B[0;34m*\u001B[0m\u001B[0minput_data\u001B[0m\u001B[0;34m)\u001B[0m\u001B[0;34m\u001B[0m\u001B[0;34m\u001B[0m\u001B[0m\n\u001B[0m\u001B[1;32m    772\u001B[0m \u001B[0;34m\u001B[0m\u001B[0m\n\u001B[1;32m    773\u001B[0m     \u001B[0;32mif\u001B[0m \u001B[0msignature\u001B[0m\u001B[0;34m.\u001B[0m\u001B[0mnum_outputs\u001B[0m \u001B[0;34m==\u001B[0m \u001B[0;36m1\u001B[0m\u001B[0;34m:\u001B[0m\u001B[0;34m\u001B[0m\u001B[0;34m\u001B[0m\u001B[0m\n",
      "\u001B[0;32m~/PycharmProjects/Ricker/venv/lib/python3.9/site-packages/xskillscore/core/probabilistic.py\u001B[0m in \u001B[0;36m_rank_first\u001B[0;34m(x, y)\u001B[0m\n\u001B[1;32m    874\u001B[0m         \"\"\"Concatenates x and y and returns the rank of the\n\u001B[1;32m    875\u001B[0m         first element along the last axes\"\"\"\n\u001B[0;32m--> 876\u001B[0;31m         \u001B[0mxy\u001B[0m \u001B[0;34m=\u001B[0m \u001B[0mnp\u001B[0m\u001B[0;34m.\u001B[0m\u001B[0mconcatenate\u001B[0m\u001B[0;34m(\u001B[0m\u001B[0;34m(\u001B[0m\u001B[0mx\u001B[0m\u001B[0;34m[\u001B[0m\u001B[0;34m...\u001B[0m\u001B[0;34m,\u001B[0m \u001B[0mnp\u001B[0m\u001B[0;34m.\u001B[0m\u001B[0mnewaxis\u001B[0m\u001B[0;34m]\u001B[0m\u001B[0;34m,\u001B[0m \u001B[0my\u001B[0m\u001B[0;34m)\u001B[0m\u001B[0;34m,\u001B[0m \u001B[0maxis\u001B[0m\u001B[0;34m=\u001B[0m\u001B[0;34m-\u001B[0m\u001B[0;36m1\u001B[0m\u001B[0;34m)\u001B[0m\u001B[0;34m\u001B[0m\u001B[0;34m\u001B[0m\u001B[0m\n\u001B[0m\u001B[1;32m    877\u001B[0m         \u001B[0;32mreturn\u001B[0m \u001B[0mbn\u001B[0m\u001B[0;34m.\u001B[0m\u001B[0mnanrankdata\u001B[0m\u001B[0;34m(\u001B[0m\u001B[0mxy\u001B[0m\u001B[0;34m,\u001B[0m \u001B[0maxis\u001B[0m\u001B[0;34m=\u001B[0m\u001B[0;34m-\u001B[0m\u001B[0;36m1\u001B[0m\u001B[0;34m)\u001B[0m\u001B[0;34m[\u001B[0m\u001B[0;34m...\u001B[0m\u001B[0;34m,\u001B[0m \u001B[0;36m0\u001B[0m\u001B[0;34m]\u001B[0m\u001B[0;34m\u001B[0m\u001B[0;34m\u001B[0m\u001B[0m\n\u001B[1;32m    878\u001B[0m \u001B[0;34m\u001B[0m\u001B[0m\n",
      "\u001B[0;32m<__array_function__ internals>\u001B[0m in \u001B[0;36mconcatenate\u001B[0;34m(*args, **kwargs)\u001B[0m\n",
      "\u001B[0;31mValueError\u001B[0m: all the input arrays must have same number of dimensions, but the array at index 0 has 3 dimension(s) and the array at index 1 has 2 dimension(s)"
     ]
    }
   ],
   "source": [
    "observations = xr.DataArray(x_obs, dims=['x', 'time'])\n",
    "forecasts = xr.DataArray(x_mod[0,:].reshape(1,x_mod.shape[1]), dims=['member', 'time'])\n",
    "xs.rank_histogram(observations, forecasts, 'x')"
   ],
   "metadata": {
    "collapsed": false,
    "pycharm": {
     "name": "#%%\n"
    }
   }
  },
  {
   "cell_type": "code",
   "execution_count": null,
   "outputs": [],
   "source": [],
   "metadata": {
    "collapsed": false,
    "pycharm": {
     "name": "#%%\n"
    }
   }
  }
 ],
 "metadata": {
  "kernelspec": {
   "display_name": "Python 3",
   "language": "python",
   "name": "python3"
  },
  "language_info": {
   "codemirror_mode": {
    "name": "ipython",
    "version": 2
   },
   "file_extension": ".py",
   "mimetype": "text/x-python",
   "name": "python",
   "nbconvert_exporter": "python",
   "pygments_lexer": "ipython2",
   "version": "2.7.6"
  }
 },
 "nbformat": 4,
 "nbformat_minor": 0
}